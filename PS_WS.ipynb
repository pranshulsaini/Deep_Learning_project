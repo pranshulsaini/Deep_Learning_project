{
 "cells": [
  {
   "cell_type": "code",
   "execution_count": 1,
   "metadata": {
    "collapsed": true
   },
   "outputs": [],
   "source": [
    "import json\n",
    "import numpy as np\n",
    "import pandas as pd\n",
    "import os\n",
    "import h5py\n",
    "import torch\n",
    "from torch.autograd import Variable\n",
    "import torch.nn as nn\n",
    "import torch.nn.functional as F\n",
    "\n",
    "%matplotlib inline\n",
    "import matplotlib.pyplot as plt"
   ]
  },
  {
   "cell_type": "code",
   "execution_count": 2,
   "metadata": {},
   "outputs": [
    {
     "name": "stdout",
     "output_type": "stream",
     "text": [
      "Loading frontal_swings_upwards\n",
      "Loading lateral_rotations_clockwise\n",
      "Loading marker_up\n",
      "Loading marker_up_frontal_swing\n",
      "Loading marker_up_lateral_rotations\n",
      "Loading marker_up_lateral_swing\n",
      "Loading motor_marker_1\n",
      "Loading random_motions\n",
      "(92514, 13) (92514,)\n"
     ]
    }
   ],
   "source": [
    "X = []\n",
    "y = []\n",
    "with h5py.File(\"data/behaviours.hdf5\", 'r') as ds:\n",
    "    for i, key in enumerate(ds):\n",
    "        print(\"Loading\", key)\n",
    "        X.append(ds[key][...])\n",
    "        y.append(np.ones(ds[key].shape[0])*i)\n",
    "        \n",
    "        \n",
    "X = np.concatenate(X, axis=0)\n",
    "X[np.isnan(X)] = 0\n",
    "y = np.concatenate(y, axis=0)\n",
    "\n",
    "print(X.shape, y.shape)"
   ]
  },
  {
   "cell_type": "code",
   "execution_count": 3,
   "metadata": {},
   "outputs": [
    {
     "name": "stdout",
     "output_type": "stream",
     "text": [
      "(92514, 6)\n",
      "(92514, 3)\n"
     ]
    }
   ],
   "source": [
    "# Pose information (= motor camera image, (x,y,z) + quaternion)\n",
    "X_pose = X[:,0:3]   # only the first two components (x, y) have non-zero values\n",
    "# Motor displacements\n",
    "X_disp = X[:,7:13]   # last motor component is zero\n",
    "X_disp[X_disp < 0] = 0\n",
    "\n",
    "print(X_disp.shape)\n",
    "print(X_pose.shape)\n",
    "\n",
    "#X_pose[:,2] = (X_pose[:,0] + X_pose[:,1])/2 + 100 * np.random.rand(92514)"
   ]
  },
  {
   "cell_type": "code",
   "execution_count": 4,
   "metadata": {},
   "outputs": [
    {
     "name": "stdout",
     "output_type": "stream",
     "text": [
      "(92514, 5)\n",
      "(92514, 2)\n"
     ]
    }
   ],
   "source": [
    "y = X_pose[:,0:2]\n",
    "x = X_disp[:,0:5]\n",
    "\n",
    "print(x.shape)\n",
    "print(y.shape)"
   ]
  },
  {
   "cell_type": "code",
   "execution_count": 5,
   "metadata": {},
   "outputs": [
    {
     "name": "stdout",
     "output_type": "stream",
     "text": [
      "(92505, 10, 5)\n",
      "(92505, 10, 2)\n"
     ]
    }
   ],
   "source": [
    "x_data = np.zeros((92514 - 10 +1,10,5))\n",
    "y_data = np.zeros((92514 - 10 +1,10,2))\n",
    "\n",
    "for i in range(92514 - 10 +1):\n",
    "    x_data[i,:,:] = x[i:i+10,:]\n",
    "\n",
    "for i in range(92514 - 10 +1):\n",
    "    y_data[i,:,:] = y[i:i+10,:] \n",
    "\n",
    "print(x_data.shape)\n",
    "print(y_data.shape)"
   ]
  },
  {
   "cell_type": "code",
   "execution_count": 6,
   "metadata": {},
   "outputs": [
    {
     "name": "stdout",
     "output_type": "stream",
     "text": [
      "torch.Size([90000, 5, 1, 10])\n",
      "torch.Size([2505, 5, 1, 10])\n",
      "torch.Size([90000, 2, 1, 10])\n",
      "torch.Size([2505, 2, 1, 10])\n",
      "torch.Size([90000, 20])\n"
     ]
    }
   ],
   "source": [
    "xx = torch.randn(92514 - 10 +1, 5, 1, 10)\n",
    "\n",
    "for i in range(92514 - 10 +1):\n",
    "    for j in range(10):  \n",
    "        xx[i,:,0, j] = torch.from_numpy(x_data[i,j,:])\n",
    "        \n",
    "#output = net(Variable(xx))\n",
    "#output.data = output.data.resize_(10,2)\n",
    "\n",
    "train_data = xx[0:90000,:,:,:]\n",
    "val_data = xx[90000:92505,:,:,:]\n",
    "\n",
    "\n",
    "yy = torch.randn(92514 - 10 +1, 2, 1, 10)\n",
    "for i in range(92514 - 10 +1):\n",
    "    for j in range(10):  \n",
    "        yy[i,:,0, j] = torch.from_numpy(y_data[i,j,:])\n",
    "        \n",
    "\n",
    "train_labels = yy[0:90000,:,:,:]\n",
    "val_labels = yy[90000:92505,:,:,:]\n",
    "\n",
    "\n",
    "print(train_data.shape)\n",
    "print(val_data.shape)\n",
    "print(train_labels.shape)\n",
    "print(val_labels.shape)\n",
    "\n",
    "def num_flat_features(x):\n",
    "    \"\"\"\n",
    "    Computes the number of features if the spatial input x is transformed\n",
    "    to a 1D flat input.\n",
    "    \"\"\"\n",
    "    size = x.size()[1:]  # all dimensions except the batch dimension\n",
    "    num_features = 1\n",
    "    for s in size:\n",
    "        num_features *= s\n",
    "    return num_features\n",
    "\n",
    "train_labels_1 = train_labels.view(-1, num_flat_features(train_labels))\n",
    "print(train_labels_1.shape)"
   ]
  },
  {
   "cell_type": "code",
   "execution_count": 7,
   "metadata": {},
   "outputs": [
    {
     "name": "stdout",
     "output_type": "stream",
     "text": [
      "START TRAIN.\n",
      "iteration 0 / 18000: loss 68172.320312\n",
      "iteration 100 / 18000: loss 43073.656250\n",
      "iteration 200 / 18000: loss 27160.082031\n",
      "iteration 300 / 18000: loss 25880.468750\n",
      "iteration 400 / 18000: loss 22754.578125\n",
      "iteration 500 / 18000: loss 24456.427734\n",
      "iteration 600 / 18000: loss 24363.925781\n",
      "iteration 700 / 18000: loss 28768.546875\n",
      "iteration 800 / 18000: loss 24623.488281\n",
      "iteration 900 / 18000: loss 23692.185547\n",
      "iteration 1000 / 18000: loss 23827.238281\n",
      "iteration 1100 / 18000: loss 25049.115234\n",
      "iteration 1200 / 18000: loss 21837.414062\n",
      "iteration 1300 / 18000: loss 21262.416016\n",
      "iteration 1400 / 18000: loss 20559.732422\n",
      "iteration 1500 / 18000: loss 22056.998047\n",
      "iteration 1600 / 18000: loss 22628.082031\n",
      "iteration 1700 / 18000: loss 21313.240234\n",
      "iteration 1800 / 18000: loss 22690.550781\n",
      "iteration 1900 / 18000: loss 20161.996094\n",
      "iteration 2000 / 18000: loss 21328.585938\n",
      "iteration 2100 / 18000: loss 20892.162109\n",
      "iteration 2200 / 18000: loss 22757.248047\n",
      "iteration 2300 / 18000: loss 22725.494141\n",
      "iteration 2400 / 18000: loss 20825.314453\n",
      "iteration 2500 / 18000: loss 20668.330078\n",
      "iteration 2600 / 18000: loss 22998.654297\n",
      "iteration 2700 / 18000: loss 20787.369141\n",
      "iteration 2800 / 18000: loss 21074.640625\n",
      "iteration 2900 / 18000: loss 21379.837891\n",
      "iteration 3000 / 18000: loss 20866.050781\n",
      "iteration 3100 / 18000: loss 20369.146484\n",
      "iteration 3200 / 18000: loss 20419.046875\n",
      "iteration 3300 / 18000: loss 20350.445312\n",
      "iteration 3400 / 18000: loss 26352.919922\n",
      "iteration 3500 / 18000: loss 21595.044922\n",
      "iteration 3600 / 18000: loss 19432.443359\n",
      "iteration 3700 / 18000: loss 19964.839844\n",
      "iteration 3800 / 18000: loss 19603.744141\n",
      "iteration 3900 / 18000: loss 19881.777344\n",
      "iteration 4000 / 18000: loss 19203.380859\n",
      "iteration 4100 / 18000: loss 21244.615234\n",
      "iteration 4200 / 18000: loss 19657.726562\n",
      "iteration 4300 / 18000: loss 19066.917969\n",
      "iteration 4400 / 18000: loss 19760.371094\n",
      "iteration 4500 / 18000: loss 18704.558594\n",
      "iteration 4600 / 18000: loss 18692.146484\n",
      "iteration 4700 / 18000: loss 19779.369141\n",
      "iteration 4800 / 18000: loss 18573.990234\n",
      "iteration 4900 / 18000: loss 19865.736328\n",
      "iteration 5000 / 18000: loss 19408.359375\n",
      "iteration 5100 / 18000: loss 18757.013672\n",
      "iteration 5200 / 18000: loss 18723.662109\n",
      "iteration 5300 / 18000: loss 20195.074219\n",
      "iteration 5400 / 18000: loss 18853.537109\n",
      "iteration 5500 / 18000: loss 19453.117188\n",
      "iteration 5600 / 18000: loss 19465.294922\n",
      "iteration 5700 / 18000: loss 17961.509766\n",
      "iteration 5800 / 18000: loss 18815.050781\n",
      "iteration 5900 / 18000: loss 18858.576172\n",
      "iteration 6000 / 18000: loss 19128.925781\n",
      "iteration 6100 / 18000: loss 19425.759766\n",
      "iteration 6200 / 18000: loss 19379.232422\n",
      "iteration 6300 / 18000: loss 18518.767578\n",
      "iteration 6400 / 18000: loss 19266.152344\n",
      "iteration 6500 / 18000: loss 19623.595703\n",
      "iteration 6600 / 18000: loss 19366.195312\n",
      "iteration 6700 / 18000: loss 18236.992188\n",
      "iteration 6800 / 18000: loss 18574.330078\n",
      "iteration 6900 / 18000: loss 17436.753906\n",
      "iteration 7000 / 18000: loss 18742.957031\n",
      "iteration 7100 / 18000: loss 18005.400391\n",
      "iteration 7200 / 18000: loss 18248.638672\n",
      "iteration 7300 / 18000: loss 19053.339844\n",
      "iteration 7400 / 18000: loss 17508.156250\n",
      "iteration 7500 / 18000: loss 16323.327148\n",
      "iteration 7600 / 18000: loss 17296.406250\n",
      "iteration 7700 / 18000: loss 17851.853516\n",
      "iteration 7800 / 18000: loss 17296.078125\n",
      "iteration 7900 / 18000: loss 17221.181641\n",
      "iteration 8000 / 18000: loss 17233.000000\n",
      "iteration 8100 / 18000: loss 17624.007812\n",
      "iteration 8200 / 18000: loss 17703.132812\n",
      "iteration 8300 / 18000: loss 17444.535156\n",
      "iteration 8400 / 18000: loss 16822.316406\n",
      "iteration 8500 / 18000: loss 17463.994141\n",
      "iteration 8600 / 18000: loss 17479.574219\n",
      "iteration 8700 / 18000: loss 16804.798828\n",
      "iteration 8800 / 18000: loss 17581.332031\n",
      "iteration 8900 / 18000: loss 17238.642578\n",
      "iteration 9000 / 18000: loss 17890.207031\n",
      "iteration 9100 / 18000: loss 17332.777344\n",
      "iteration 9200 / 18000: loss 17481.416016\n",
      "iteration 9300 / 18000: loss 17430.330078\n",
      "iteration 9400 / 18000: loss 17492.498047\n",
      "iteration 9500 / 18000: loss 17583.980469\n",
      "iteration 9600 / 18000: loss 17311.992188\n",
      "iteration 9700 / 18000: loss 18885.656250\n",
      "iteration 9800 / 18000: loss 17053.363281\n",
      "iteration 9900 / 18000: loss 18591.740234\n",
      "iteration 10000 / 18000: loss 17223.521484\n",
      "iteration 10100 / 18000: loss 17445.876953\n",
      "iteration 10200 / 18000: loss 16464.267578\n",
      "iteration 10300 / 18000: loss 17605.876953\n",
      "iteration 10400 / 18000: loss 17462.025391\n",
      "iteration 10500 / 18000: loss 18298.232422\n",
      "iteration 10600 / 18000: loss 17794.470703\n",
      "iteration 10700 / 18000: loss 17148.744141\n",
      "iteration 10800 / 18000: loss 18083.658203\n",
      "iteration 10900 / 18000: loss 18519.945312\n",
      "iteration 11000 / 18000: loss 17043.072266\n",
      "iteration 11100 / 18000: loss 16514.365234\n",
      "iteration 11200 / 18000: loss 17240.312500\n",
      "iteration 11300 / 18000: loss 18662.546875\n",
      "iteration 11400 / 18000: loss 17704.597656\n",
      "iteration 11500 / 18000: loss 17200.792969\n",
      "iteration 11600 / 18000: loss 17251.666016\n",
      "iteration 11700 / 18000: loss 17922.769531\n",
      "iteration 11800 / 18000: loss 18528.707031\n",
      "iteration 11900 / 18000: loss 17132.830078\n",
      "iteration 12000 / 18000: loss 17799.121094\n",
      "iteration 12100 / 18000: loss 18738.921875\n",
      "iteration 12200 / 18000: loss 19463.080078\n",
      "iteration 12300 / 18000: loss 17373.781250\n",
      "iteration 12400 / 18000: loss 16625.148438\n",
      "iteration 12500 / 18000: loss 17863.654297\n",
      "iteration 12600 / 18000: loss 17292.927734\n",
      "iteration 12700 / 18000: loss 17675.460938\n",
      "iteration 12800 / 18000: loss 17852.085938\n",
      "iteration 12900 / 18000: loss 17466.281250\n",
      "iteration 13000 / 18000: loss 18197.509766\n",
      "iteration 13100 / 18000: loss 18190.744141\n",
      "iteration 13200 / 18000: loss 18547.328125\n",
      "iteration 13300 / 18000: loss 17787.402344\n",
      "iteration 13400 / 18000: loss 17673.703125\n",
      "iteration 13500 / 18000: loss 17275.173828\n",
      "iteration 13600 / 18000: loss 18143.068359\n",
      "iteration 13700 / 18000: loss 17193.367188\n",
      "iteration 13800 / 18000: loss 17780.255859\n",
      "iteration 13900 / 18000: loss 17264.482422\n",
      "iteration 14000 / 18000: loss 17326.443359\n",
      "iteration 14100 / 18000: loss 17653.451172\n",
      "iteration 14200 / 18000: loss 18632.593750\n",
      "iteration 14300 / 18000: loss 18286.193359\n",
      "iteration 14400 / 18000: loss 17958.697266\n",
      "iteration 14500 / 18000: loss 17185.314453\n",
      "iteration 14600 / 18000: loss 17677.673828\n",
      "iteration 14700 / 18000: loss 16839.568359\n",
      "iteration 14800 / 18000: loss 17430.056641\n",
      "iteration 14900 / 18000: loss 16808.484375\n",
      "iteration 15000 / 18000: loss 17951.931641\n",
      "iteration 15100 / 18000: loss 17704.597656\n",
      "iteration 15200 / 18000: loss 17432.734375\n"
     ]
    },
    {
     "ename": "KeyboardInterrupt",
     "evalue": "",
     "output_type": "error",
     "traceback": [
      "\u001b[0;31m---------------------------------------------------------------------------\u001b[0m",
      "\u001b[0;31mKeyboardInterrupt\u001b[0m                         Traceback (most recent call last)",
      "\u001b[0;32m<ipython-input-7-100b38d626f0>\u001b[0m in \u001b[0;36m<module>\u001b[0;34m()\u001b[0m\n\u001b[1;32m      8\u001b[0m \u001b[0msolver\u001b[0m \u001b[0;34m=\u001b[0m \u001b[0mSolver\u001b[0m\u001b[0;34m(\u001b[0m\u001b[0moptim_args\u001b[0m\u001b[0;34m=\u001b[0m\u001b[0;34m{\u001b[0m\u001b[0;34m\"lr\"\u001b[0m\u001b[0;34m:\u001b[0m \u001b[0;36m1e-3\u001b[0m\u001b[0;34m}\u001b[0m\u001b[0;34m)\u001b[0m  \u001b[0;31m# overfit bcz generalisation is 0\u001b[0m\u001b[0;34m\u001b[0m\u001b[0m\n\u001b[1;32m      9\u001b[0m \u001b[0;34m\u001b[0m\u001b[0m\n\u001b[0;32m---> 10\u001b[0;31m \u001b[0msolver\u001b[0m\u001b[0;34m.\u001b[0m\u001b[0mtrain\u001b[0m\u001b[0;34m(\u001b[0m\u001b[0mmodel\u001b[0m\u001b[0;34m,\u001b[0m \u001b[0mtrain_data\u001b[0m\u001b[0;34m,\u001b[0m \u001b[0mtrain_labels\u001b[0m\u001b[0;34m,\u001b[0m \u001b[0mval_data\u001b[0m\u001b[0;34m,\u001b[0m \u001b[0mval_labels\u001b[0m\u001b[0;34m,\u001b[0m \u001b[0mbatch_size\u001b[0m \u001b[0;34m=\u001b[0m\u001b[0;36m50\u001b[0m\u001b[0;34m,\u001b[0m \u001b[0mlog_nth\u001b[0m\u001b[0;34m=\u001b[0m\u001b[0;36m1\u001b[0m\u001b[0;34m,\u001b[0m \u001b[0mnum_epochs\u001b[0m\u001b[0;34m=\u001b[0m\u001b[0;36m10\u001b[0m\u001b[0;34m)\u001b[0m\u001b[0;34m\u001b[0m\u001b[0m\n\u001b[0m\u001b[1;32m     11\u001b[0m \u001b[0;34m\u001b[0m\u001b[0m\n",
      "\u001b[0;32m~/Dropbox/Semester3/Deep_Learning/project/dl4cv/solver_old.py\u001b[0m in \u001b[0;36mtrain\u001b[0;34m(self, model, train_data, train_labels, val_data, val_labels, batch_size, log_nth, num_epochs)\u001b[0m\n\u001b[1;32m     83\u001b[0m \u001b[0;34m\u001b[0m\u001b[0m\n\u001b[1;32m     84\u001b[0m \u001b[0;34m\u001b[0m\u001b[0m\n\u001b[0;32m---> 85\u001b[0;31m             \u001b[0moutput\u001b[0m \u001b[0;34m=\u001b[0m \u001b[0mmodel\u001b[0m\u001b[0;34m.\u001b[0m\u001b[0mforward\u001b[0m\u001b[0;34m(\u001b[0m\u001b[0mVariable\u001b[0m\u001b[0;34m(\u001b[0m\u001b[0mx_batch\u001b[0m\u001b[0;34m)\u001b[0m\u001b[0;34m)\u001b[0m  \u001b[0;31m# it returns Variable. Access data by output.data\u001b[0m\u001b[0;34m\u001b[0m\u001b[0m\n\u001b[0m\u001b[1;32m     86\u001b[0m             \u001b[0;31m#output = model(Variable(x_batch))  # It also returns Variable\u001b[0m\u001b[0;34m\u001b[0m\u001b[0;34m\u001b[0m\u001b[0m\n\u001b[1;32m     87\u001b[0m \u001b[0;34m\u001b[0m\u001b[0m\n",
      "\u001b[0;31mKeyboardInterrupt\u001b[0m: "
     ]
    }
   ],
   "source": [
    "from dl4cv.classifiers.classification_cnn import ClassificationCNN\n",
    "from dl4cv.solver_old import Solver\n",
    "\n",
    "#train_loader = torch.utils.data.DataLoader(train_data, batch_size=50, shuffle=True, num_workers=4)\n",
    "#val_loader = torch.utils.data.DataLoader(val_data, batch_size=50, shuffle=False, num_workers=4)\n",
    "\n",
    "model = ClassificationCNN()\n",
    "solver = Solver(optim_args={\"lr\": 1e-3})  # overfit bcz generalisation is 0\n",
    "\n",
    "solver.train(model, train_data, train_labels, val_data, val_labels, batch_size =50, log_nth=1, num_epochs=10)\n",
    "\n"
   ]
  },
  {
   "cell_type": "code",
   "execution_count": 8,
   "metadata": {},
   "outputs": [
    {
     "ename": "TypeError",
     "evalue": "Invalid dimensions for image data",
     "output_type": "error",
     "traceback": [
      "\u001b[0;31m---------------------------------------------------------------------------\u001b[0m",
      "\u001b[0;31mTypeError\u001b[0m                                 Traceback (most recent call last)",
      "\u001b[0;32m<ipython-input-8-4a0ff46b2743>\u001b[0m in \u001b[0;36m<module>\u001b[0;34m()\u001b[0m\n\u001b[1;32m      7\u001b[0m \u001b[0mconv_params\u001b[0m \u001b[0;34m=\u001b[0m \u001b[0mnext\u001b[0m\u001b[0;34m(\u001b[0m\u001b[0mmodel\u001b[0m\u001b[0;34m.\u001b[0m\u001b[0mparameters\u001b[0m\u001b[0;34m(\u001b[0m\u001b[0;34m)\u001b[0m\u001b[0;34m)\u001b[0m\u001b[0;34m.\u001b[0m\u001b[0mdata\u001b[0m\u001b[0;34m.\u001b[0m\u001b[0mnumpy\u001b[0m\u001b[0;34m(\u001b[0m\u001b[0;34m)\u001b[0m\u001b[0;34m\u001b[0m\u001b[0m\n\u001b[1;32m      8\u001b[0m \u001b[0mgrid\u001b[0m \u001b[0;34m=\u001b[0m \u001b[0mvisualize_grid\u001b[0m\u001b[0;34m(\u001b[0m\u001b[0mconv_params\u001b[0m\u001b[0;34m.\u001b[0m\u001b[0mtranspose\u001b[0m\u001b[0;34m(\u001b[0m\u001b[0;36m0\u001b[0m\u001b[0;34m,\u001b[0m \u001b[0;36m2\u001b[0m\u001b[0;34m,\u001b[0m \u001b[0;36m3\u001b[0m\u001b[0;34m,\u001b[0m \u001b[0;36m1\u001b[0m\u001b[0;34m)\u001b[0m\u001b[0;34m)\u001b[0m\u001b[0;34m\u001b[0m\u001b[0m\n\u001b[0;32m----> 9\u001b[0;31m \u001b[0mplt\u001b[0m\u001b[0;34m.\u001b[0m\u001b[0mimshow\u001b[0m\u001b[0;34m(\u001b[0m\u001b[0mgrid\u001b[0m\u001b[0;34m.\u001b[0m\u001b[0mastype\u001b[0m\u001b[0;34m(\u001b[0m\u001b[0;34m'uint8'\u001b[0m\u001b[0;34m)\u001b[0m\u001b[0;34m)\u001b[0m\u001b[0;34m\u001b[0m\u001b[0m\n\u001b[0m\u001b[1;32m     10\u001b[0m \u001b[0mplt\u001b[0m\u001b[0;34m.\u001b[0m\u001b[0maxis\u001b[0m\u001b[0;34m(\u001b[0m\u001b[0;34m'off'\u001b[0m\u001b[0;34m)\u001b[0m\u001b[0;34m\u001b[0m\u001b[0m\n\u001b[1;32m     11\u001b[0m \u001b[0mplt\u001b[0m\u001b[0;34m.\u001b[0m\u001b[0mgcf\u001b[0m\u001b[0;34m(\u001b[0m\u001b[0;34m)\u001b[0m\u001b[0;34m.\u001b[0m\u001b[0mset_size_inches\u001b[0m\u001b[0;34m(\u001b[0m\u001b[0;36m6\u001b[0m\u001b[0;34m,\u001b[0m \u001b[0;36m6\u001b[0m\u001b[0;34m)\u001b[0m\u001b[0;34m\u001b[0m\u001b[0m\n",
      "\u001b[0;32m~/anaconda3/lib/python3.6/site-packages/matplotlib/pyplot.py\u001b[0m in \u001b[0;36mimshow\u001b[0;34m(X, cmap, norm, aspect, interpolation, alpha, vmin, vmax, origin, extent, shape, filternorm, filterrad, imlim, resample, url, hold, data, **kwargs)\u001b[0m\n\u001b[1;32m   3078\u001b[0m                         \u001b[0mfilternorm\u001b[0m\u001b[0;34m=\u001b[0m\u001b[0mfilternorm\u001b[0m\u001b[0;34m,\u001b[0m \u001b[0mfilterrad\u001b[0m\u001b[0;34m=\u001b[0m\u001b[0mfilterrad\u001b[0m\u001b[0;34m,\u001b[0m\u001b[0;34m\u001b[0m\u001b[0m\n\u001b[1;32m   3079\u001b[0m                         \u001b[0mimlim\u001b[0m\u001b[0;34m=\u001b[0m\u001b[0mimlim\u001b[0m\u001b[0;34m,\u001b[0m \u001b[0mresample\u001b[0m\u001b[0;34m=\u001b[0m\u001b[0mresample\u001b[0m\u001b[0;34m,\u001b[0m \u001b[0murl\u001b[0m\u001b[0;34m=\u001b[0m\u001b[0murl\u001b[0m\u001b[0;34m,\u001b[0m \u001b[0mdata\u001b[0m\u001b[0;34m=\u001b[0m\u001b[0mdata\u001b[0m\u001b[0;34m,\u001b[0m\u001b[0;34m\u001b[0m\u001b[0m\n\u001b[0;32m-> 3080\u001b[0;31m                         **kwargs)\n\u001b[0m\u001b[1;32m   3081\u001b[0m     \u001b[0;32mfinally\u001b[0m\u001b[0;34m:\u001b[0m\u001b[0;34m\u001b[0m\u001b[0m\n\u001b[1;32m   3082\u001b[0m         \u001b[0max\u001b[0m\u001b[0;34m.\u001b[0m\u001b[0m_hold\u001b[0m \u001b[0;34m=\u001b[0m \u001b[0mwashold\u001b[0m\u001b[0;34m\u001b[0m\u001b[0m\n",
      "\u001b[0;32m~/anaconda3/lib/python3.6/site-packages/matplotlib/__init__.py\u001b[0m in \u001b[0;36minner\u001b[0;34m(ax, *args, **kwargs)\u001b[0m\n\u001b[1;32m   1708\u001b[0m                     warnings.warn(msg % (label_namer, func.__name__),\n\u001b[1;32m   1709\u001b[0m                                   RuntimeWarning, stacklevel=2)\n\u001b[0;32m-> 1710\u001b[0;31m             \u001b[0;32mreturn\u001b[0m \u001b[0mfunc\u001b[0m\u001b[0;34m(\u001b[0m\u001b[0max\u001b[0m\u001b[0;34m,\u001b[0m \u001b[0;34m*\u001b[0m\u001b[0margs\u001b[0m\u001b[0;34m,\u001b[0m \u001b[0;34m**\u001b[0m\u001b[0mkwargs\u001b[0m\u001b[0;34m)\u001b[0m\u001b[0;34m\u001b[0m\u001b[0m\n\u001b[0m\u001b[1;32m   1711\u001b[0m         \u001b[0mpre_doc\u001b[0m \u001b[0;34m=\u001b[0m \u001b[0minner\u001b[0m\u001b[0;34m.\u001b[0m\u001b[0m__doc__\u001b[0m\u001b[0;34m\u001b[0m\u001b[0m\n\u001b[1;32m   1712\u001b[0m         \u001b[0;32mif\u001b[0m \u001b[0mpre_doc\u001b[0m \u001b[0;32mis\u001b[0m \u001b[0;32mNone\u001b[0m\u001b[0;34m:\u001b[0m\u001b[0;34m\u001b[0m\u001b[0m\n",
      "\u001b[0;32m~/anaconda3/lib/python3.6/site-packages/matplotlib/axes/_axes.py\u001b[0m in \u001b[0;36mimshow\u001b[0;34m(self, X, cmap, norm, aspect, interpolation, alpha, vmin, vmax, origin, extent, shape, filternorm, filterrad, imlim, resample, url, **kwargs)\u001b[0m\n\u001b[1;32m   5192\u001b[0m                               resample=resample, **kwargs)\n\u001b[1;32m   5193\u001b[0m \u001b[0;34m\u001b[0m\u001b[0m\n\u001b[0;32m-> 5194\u001b[0;31m         \u001b[0mim\u001b[0m\u001b[0;34m.\u001b[0m\u001b[0mset_data\u001b[0m\u001b[0;34m(\u001b[0m\u001b[0mX\u001b[0m\u001b[0;34m)\u001b[0m\u001b[0;34m\u001b[0m\u001b[0m\n\u001b[0m\u001b[1;32m   5195\u001b[0m         \u001b[0mim\u001b[0m\u001b[0;34m.\u001b[0m\u001b[0mset_alpha\u001b[0m\u001b[0;34m(\u001b[0m\u001b[0malpha\u001b[0m\u001b[0;34m)\u001b[0m\u001b[0;34m\u001b[0m\u001b[0m\n\u001b[1;32m   5196\u001b[0m         \u001b[0;32mif\u001b[0m \u001b[0mim\u001b[0m\u001b[0;34m.\u001b[0m\u001b[0mget_clip_path\u001b[0m\u001b[0;34m(\u001b[0m\u001b[0;34m)\u001b[0m \u001b[0;32mis\u001b[0m \u001b[0;32mNone\u001b[0m\u001b[0;34m:\u001b[0m\u001b[0;34m\u001b[0m\u001b[0m\n",
      "\u001b[0;32m~/anaconda3/lib/python3.6/site-packages/matplotlib/image.py\u001b[0m in \u001b[0;36mset_data\u001b[0;34m(self, A)\u001b[0m\n\u001b[1;32m    602\u001b[0m         if not (self._A.ndim == 2\n\u001b[1;32m    603\u001b[0m                 or self._A.ndim == 3 and self._A.shape[-1] in [3, 4]):\n\u001b[0;32m--> 604\u001b[0;31m             \u001b[0;32mraise\u001b[0m \u001b[0mTypeError\u001b[0m\u001b[0;34m(\u001b[0m\u001b[0;34m\"Invalid dimensions for image data\"\u001b[0m\u001b[0;34m)\u001b[0m\u001b[0;34m\u001b[0m\u001b[0m\n\u001b[0m\u001b[1;32m    605\u001b[0m \u001b[0;34m\u001b[0m\u001b[0m\n\u001b[1;32m    606\u001b[0m         \u001b[0mself\u001b[0m\u001b[0;34m.\u001b[0m\u001b[0m_imcache\u001b[0m \u001b[0;34m=\u001b[0m \u001b[0;32mNone\u001b[0m\u001b[0;34m\u001b[0m\u001b[0m\n",
      "\u001b[0;31mTypeError\u001b[0m: Invalid dimensions for image data"
     ]
    },
    {
     "data": {
      "image/png": "[encoded data removed]",
      "text/plain": [
       "<matplotlib.figure.Figure at 0x7f56d29fd160>"
      ]
     },
     "metadata": {},
     "output_type": "display_data"
    }
   ],
   "source": [
    "# visualising filters\n",
    "\n",
    "\n",
    "from dl4cv.vis_utils import visualize_grid\n",
    "\n",
    "# first (next) parameter should be convolutional\n",
    "conv_params = next(model.parameters()).data.numpy()\n",
    "grid = visualize_grid(conv_params.transpose(0, 2, 3, 1))\n",
    "plt.imshow(grid.astype('uint8'))\n",
    "plt.axis('off')\n",
    "plt.gcf().set_size_inches(6, 6)\n",
    "plt.show()"
   ]
  },
  {
   "cell_type": "code",
   "execution_count": null,
   "metadata": {
    "collapsed": true
   },
   "outputs": [],
   "source": []
  }
 ],
 "metadata": {
  "kernelspec": {
   "display_name": "Python 3",
   "language": "python",
   "name": "python3"
  },
  "language_info": {
   "codemirror_mode": {
    "name": "ipython",
    "version": 3
   },
   "file_extension": ".py",
   "mimetype": "text/x-python",
   "name": "python",
   "nbconvert_exporter": "python",
   "pygments_lexer": "ipython3",
   "version": "3.6.3"
  }
 },
 "nbformat": 4,
 "nbformat_minor": 2
}
